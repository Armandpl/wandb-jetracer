{
 "cells": [
  {
   "cell_type": "markdown",
   "id": "e3e2d79d",
   "metadata": {},
   "source": [
    "# Exploratory data analysis"
   ]
  },
  {
   "cell_type": "code",
   "execution_count": null,
   "id": "2b96dbd9",
   "metadata": {},
   "outputs": [],
   "source": [
    "%matplotlib inline"
   ]
  },
  {
   "cell_type": "code",
   "execution_count": 11,
   "id": "2e233109",
   "metadata": {},
   "outputs": [
    {
     "data": {
      "text/html": [
       "\n",
       "                Tracking run with wandb version 0.10.27<br/>\n",
       "                Syncing run <strong style=\"color:#cdcd00\">honest-wind-33</strong> to <a href=\"https://wandb.ai\" target=\"_blank\">Weights & Biases</a> <a href=\"https://docs.wandb.com/integrations/jupyter.html\" target=\"_blank\">(Documentation)</a>.<br/>\n",
       "                Project page: <a href=\"https://wandb.ai/armandpl2/wandb-jetracer\" target=\"_blank\">https://wandb.ai/armandpl2/wandb-jetracer</a><br/>\n",
       "                Run page: <a href=\"https://wandb.ai/armandpl2/wandb-jetracer/runs/11q80sdk\" target=\"_blank\">https://wandb.ai/armandpl2/wandb-jetracer/runs/11q80sdk</a><br/>\n",
       "                Run data is saved locally in <code>/home/armand/Dev/wandb/wandb_jetracer/wandb/run-20210423_170704-11q80sdk</code><br/><br/>\n",
       "            "
      ],
      "text/plain": [
       "<IPython.core.display.HTML object>"
      ]
     },
     "metadata": {},
     "output_type": "display_data"
    },
    {
     "name": "stdout",
     "output_type": "stream",
     "text": [
      "tensor(-0.2297)\n",
      "tensor(1.0502)\n"
     ]
    },
    {
     "data": {
      "text/html": [
       "<br/>Waiting for W&B process to finish, PID 35932<br/>Program ended successfully."
      ],
      "text/plain": [
       "<IPython.core.display.HTML object>"
      ]
     },
     "metadata": {},
     "output_type": "display_data"
    },
    {
     "data": {
      "application/vnd.jupyter.widget-view+json": {
       "model_id": "",
       "version_major": 2,
       "version_minor": 0
      },
      "text/plain": [
       "VBox(children=(Label(value=' 0.00MB of 0.00MB uploaded (0.00MB deduped)\\r'), FloatProgress(value=1.0, max=1.0)…"
      ]
     },
     "metadata": {},
     "output_type": "display_data"
    },
    {
     "data": {
      "text/html": [
       "Find user logs for this run at: <code>/home/armand/Dev/wandb/wandb_jetracer/wandb/run-20210423_170704-11q80sdk/logs/debug.log</code>"
      ],
      "text/plain": [
       "<IPython.core.display.HTML object>"
      ]
     },
     "metadata": {},
     "output_type": "display_data"
    },
    {
     "data": {
      "text/html": [
       "Find internal logs for this run at: <code>/home/armand/Dev/wandb/wandb_jetracer/wandb/run-20210423_170704-11q80sdk/logs/debug-internal.log</code>"
      ],
      "text/plain": [
       "<IPython.core.display.HTML object>"
      ]
     },
     "metadata": {},
     "output_type": "display_data"
    },
    {
     "data": {
      "text/html": [
       "<h3>Run summary:</h3><br/><style>\n",
       "    table.wandb td:nth-child(1) { padding: 0 10px; text-align: right }\n",
       "    </style><table class=\"wandb\">\n",
       "<tr><td>_runtime</td><td>10</td></tr><tr><td>_timestamp</td><td>1619190434</td></tr><tr><td>_step</td><td>0</td></tr></table>"
      ],
      "text/plain": [
       "<IPython.core.display.HTML object>"
      ]
     },
     "metadata": {},
     "output_type": "display_data"
    },
    {
     "data": {
      "text/html": [
       "<h3>Run history:</h3><br/><style>\n",
       "    table.wandb td:nth-child(1) { padding: 0 10px; text-align: right }\n",
       "    </style><table class=\"wandb\">\n",
       "<tr><td>_runtime</td><td>▁</td></tr><tr><td>_timestamp</td><td>▁</td></tr><tr><td>_step</td><td>▁</td></tr></table><br/>"
      ],
      "text/plain": [
       "<IPython.core.display.HTML object>"
      ]
     },
     "metadata": {},
     "output_type": "display_data"
    },
    {
     "data": {
      "text/html": [
       "Synced 6 W&B file(s), 0 media file(s), 0 artifact file(s) and 0 other file(s)"
      ],
      "text/plain": [
       "<IPython.core.display.HTML object>"
      ]
     },
     "metadata": {},
     "output_type": "display_data"
    },
    {
     "data": {
      "text/html": [
       "\n",
       "                    <br/>Synced <strong style=\"color:#cdcd00\">honest-wind-33</strong>: <a href=\"https://wandb.ai/armandpl2/wandb-jetracer/runs/11q80sdk\" target=\"_blank\">https://wandb.ai/armandpl2/wandb-jetracer/runs/11q80sdk</a><br/>\n",
       "                "
      ],
      "text/plain": [
       "<IPython.core.display.HTML object>"
      ]
     },
     "metadata": {},
     "output_type": "display_data"
    }
   ],
   "source": [
    "import wandb\n",
    "from utils.xy_dataset import XYDataset\n",
    "from torch.utils.data import DataLoader\n",
    "import numpy as np\n",
    "\n",
    "with wandb.init(project='wandb-jetracer', job_type='test') as run:\n",
    "\n",
    "    # pulling the dataset from wandb\n",
    "    dataset_artifact = run.use_artifact('track-dataset:latest')\n",
    "\n",
    "    # 📥 if need be, download the artifact\n",
    "    dataset_dir = dataset_artifact.download()\n",
    "    dataset = XYDataset(dataset_dir)\n",
    "\n",
    "    # compute mean and std of images\n",
    "    loader = DataLoader(dataset, batch_size=len(dataset), num_workers=1)\n",
    "    data = next(iter(loader))\n",
    "    mean, std = data[0].mean(), data[0].std()\n",
    "    print(mean)\n",
    "    print(std)\n",
    "\n",
    "    x = data[1][:, 0]\n",
    "    y = data[1][:, 1]\n",
    "    # TODO: maybe store that in wandb and use that at the next step of the pipeline (training) to \n",
    "    # normalize the data ?\n",
    "\n",
    "    # plot distribution of x/y values\n",
    "\n",
    "    # TODO: maybe also display the histogram in the notebook?\n",
    "    run.log({\n",
    "        \"x histogram\": wandb.Histogram(x.numpy()),\n",
    "        \"y histogram\": wandb.Histogram(y.numpy())\n",
    "    })"
   ]
  }
 ],
 "metadata": {
  "kernelspec": {
   "display_name": "wjt",
   "language": "python",
   "name": "wjt"
  },
  "language_info": {
   "codemirror_mode": {
    "name": "ipython",
    "version": 3
   },
   "file_extension": ".py",
   "mimetype": "text/x-python",
   "name": "python",
   "nbconvert_exporter": "python",
   "pygments_lexer": "ipython3",
   "version": "3.8.8"
  }
 },
 "nbformat": 4,
 "nbformat_minor": 5
}
